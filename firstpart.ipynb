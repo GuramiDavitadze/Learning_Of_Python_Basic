{
 "cells": [
  {
   "cell_type": "markdown",
   "metadata": {},
   "source": [
    "IMPORT RANDOM MODULE"
   ]
  },
  {
   "cell_type": "code",
   "execution_count": 1,
   "metadata": {},
   "outputs": [],
   "source": [
    "import random as rand\n",
    "import math"
   ]
  },
  {
   "cell_type": "markdown",
   "metadata": {},
   "source": [
    "SORT NUMBERS FROM HIGHEST TO LOWEST"
   ]
  },
  {
   "cell_type": "code",
   "execution_count": 6,
   "metadata": {},
   "outputs": [
    {
     "name": "stdout",
     "output_type": "stream",
     "text": [
      "[95, 89, 53, 43, 34, 33, 31, 6, -1, -12, -30, -31, -38, -57, -95]\n"
     ]
    }
   ],
   "source": [
    "list_max_size = 15\n",
    "numbers = [rand.randint(-100,100) for _ in range(list_max_size)]\n",
    "sortedList = []\n",
    "for i in range(len(numbers)):\n",
    "    index = 0\n",
    "    for k in range(1, len(numbers)):\n",
    "        if numbers[k]>numbers[index]: \n",
    "            index=k \n",
    "    sortedList.append(numbers[index])\n",
    "    numbers.pop(index)\n",
    "print(sortedList)"
   ]
  },
  {
   "cell_type": "markdown",
   "metadata": {},
   "source": [
    "SORT NUMBERS FROM LOWEST TO HIGHEST"
   ]
  },
  {
   "cell_type": "code",
   "execution_count": 7,
   "metadata": {},
   "outputs": [
    {
     "name": "stdout",
     "output_type": "stream",
     "text": [
      "[-92, -88, -53, -35, -12, -7, -7, 6, 24, 35, 42, 50, 52, 66, 70]\n"
     ]
    }
   ],
   "source": [
    "list_max_size = 15\n",
    "numbers = [rand.randint(-100,100) for _ in range(list_max_size)]\n",
    "sortedList = []\n",
    "for i in range(len(numbers)):\n",
    "    index = 0\n",
    "    for k in range(1, len(numbers)):\n",
    "        if numbers[k]<numbers[index]: \n",
    "            index=k \n",
    "    sortedList.append(numbers[index])\n",
    "    numbers.pop(index)\n",
    "print(sortedList)"
   ]
  },
  {
   "cell_type": "markdown",
   "metadata": {},
   "source": [
    "GET ONLY UNIQUE ELEMS IN LIST"
   ]
  },
  {
   "cell_type": "code",
   "execution_count": 79,
   "metadata": {},
   "outputs": [
    {
     "name": "stdout",
     "output_type": "stream",
     "text": [
      "[1, 2, 3, 4, 5, 6, 23, 12, 43, 7, 8, 9]\n"
     ]
    }
   ],
   "source": [
    "numbers = [1,2,2,3,4,5,5,4,2,3,2,3,5,6,23,2,12,5,43,23,12,1,2,3,4,6,7,7,8,9]\n",
    "newList = []\n",
    "for number in numbers:\n",
    "    if number not in newList:\n",
    "        newList.append(number)\n",
    "print(newList)\n"
   ]
  },
  {
   "cell_type": "markdown",
   "metadata": {},
   "source": [
    "Create a Pythagoras theorem calculator"
   ]
  },
  {
   "cell_type": "code",
   "execution_count": 13,
   "metadata": {},
   "outputs": [
    {
     "name": "stdout",
     "output_type": "stream",
     "text": [
      "6.4\n"
     ]
    }
   ],
   "source": [
    "def hypotenuse_calculator(a_side,b_side):\n",
    "    if a_side==0 or b_side==0:\n",
    "        print(\"None of them can equals to 0\")\n",
    "    else:\n",
    "        c = math.sqrt(abs(a_side)**2+pow(abs(b_side),2))\n",
    "        return round(c,2)\n",
    "\n",
    "a_side = int(input(\"Please input side A:\"))\n",
    "b_side = int(input('Please input side B:'))\n",
    "print(hypotenuse_calculator(a_side,b_side))"
   ]
  },
  {
   "cell_type": "markdown",
   "metadata": {},
   "source": [
    "CREATE A LIST = (1,2,3,4,5,6,7,8,9,10)\n",
    "CREATE A NEW LIST: 8,6,4,2"
   ]
  },
  {
   "cell_type": "code",
   "execution_count": 7,
   "metadata": {},
   "outputs": [
    {
     "name": "stdout",
     "output_type": "stream",
     "text": [
      "[8, 6, 4, 2]\n"
     ]
    }
   ],
   "source": [
    "my_list = [1,2,3,4,5,6,7,8,9,10]\n",
    "new_list = my_list[7::-2]\n",
    "print(new_list)"
   ]
  },
  {
   "cell_type": "markdown",
   "metadata": {},
   "source": [
    "CREATE A LIST (1,2,3,4,5) and run code for every item if the value is 2 print \"the value is 2\" if it isn't print \"the value is not 2\" if the value is 5 run a while loop to print 'last item' 6 times"
   ]
  },
  {
   "cell_type": "code",
   "execution_count": 11,
   "metadata": {},
   "outputs": [
    {
     "name": "stdout",
     "output_type": "stream",
     "text": [
      "The value is not 2\n",
      "The value is 2\n",
      "The value is not 2\n",
      "The value is not 2\n",
      "The value is not 2\n",
      "last item\n",
      "last item\n",
      "last item\n",
      "last item\n",
      "last item\n",
      "last item\n"
     ]
    }
   ],
   "source": [
    "my_list = [1,2,3,4,5]\n",
    "\n",
    "for k in my_list:\n",
    "    if k==2:\n",
    "        print(\"The value is 2\")\n",
    "    else:\n",
    "        print('The value is not 2')\n",
    "counter=0\n",
    "while counter<6:\n",
    "    print('last item')\n",
    "    counter+=1"
   ]
  },
  {
   "cell_type": "code",
   "execution_count": 15,
   "metadata": {},
   "outputs": [
    {
     "name": "stdout",
     "output_type": "stream",
     "text": [
      "HEL\n",
      "HEL\n",
      "HEL\n",
      "HEL\n",
      "HEL\n",
      "done\n"
     ]
    }
   ],
   "source": [
    "def shouter(my_str=\"text\",quantity=1):\n",
    "    if quantity>10:\n",
    "        print('You are too loud')\n",
    "    else:\n",
    "        for _ in range(quantity):\n",
    "            print(my_str.upper())\n",
    "    return 'done'\n",
    "\n",
    "my_str= input(\"Please input text:\")\n",
    "quantity = int(input(\"Please input number:\"))\n",
    "status= shouter(my_str,quantity)\n",
    "print(status)"
   ]
  }
 ],
 "metadata": {
  "kernelspec": {
   "display_name": "python_basic",
   "language": "python",
   "name": "python3"
  },
  "language_info": {
   "codemirror_mode": {
    "name": "ipython",
    "version": 3
   },
   "file_extension": ".py",
   "mimetype": "text/x-python",
   "name": "python",
   "nbconvert_exporter": "python",
   "pygments_lexer": "ipython3",
   "version": "3.12.1"
  }
 },
 "nbformat": 4,
 "nbformat_minor": 2
}
