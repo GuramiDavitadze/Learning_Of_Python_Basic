{
 "cells": [
  {
   "cell_type": "markdown",
   "metadata": {},
   "source": [
    "IMPORT RANDOM MODULE"
   ]
  },
  {
   "cell_type": "code",
   "execution_count": 5,
   "metadata": {},
   "outputs": [],
   "source": [
    "import random as rand"
   ]
  },
  {
   "cell_type": "markdown",
   "metadata": {},
   "source": [
    "SORT NUMBERS FROM HIGHEST TO LOWEST"
   ]
  },
  {
   "cell_type": "code",
   "execution_count": 6,
   "metadata": {},
   "outputs": [
    {
     "name": "stdout",
     "output_type": "stream",
     "text": [
      "[95, 89, 53, 43, 34, 33, 31, 6, -1, -12, -30, -31, -38, -57, -95]\n"
     ]
    }
   ],
   "source": [
    "list_max_size = 15\n",
    "numbers = [rand.randint(-100,100) for _ in range(list_max_size)]\n",
    "sortedList = []\n",
    "for i in range(len(numbers)):\n",
    "    index = 0\n",
    "    for k in range(1, len(numbers)):\n",
    "        if numbers[k]>numbers[index]: \n",
    "            index=k \n",
    "    sortedList.append(numbers[index])\n",
    "    numbers.pop(index)\n",
    "print(sortedList)"
   ]
  },
  {
   "cell_type": "markdown",
   "metadata": {},
   "source": [
    "SORT NUMBERS FROM LOWEST TO HIGHEST"
   ]
  },
  {
   "cell_type": "code",
   "execution_count": 7,
   "metadata": {},
   "outputs": [
    {
     "name": "stdout",
     "output_type": "stream",
     "text": [
      "[-92, -88, -53, -35, -12, -7, -7, 6, 24, 35, 42, 50, 52, 66, 70]\n"
     ]
    }
   ],
   "source": [
    "list_max_size = 15\n",
    "numbers = [rand.randint(-100,100) for _ in range(list_max_size)]\n",
    "sortedList = []\n",
    "for i in range(len(numbers)):\n",
    "    index = 0\n",
    "    for k in range(1, len(numbers)):\n",
    "        if numbers[k]<numbers[index]: \n",
    "            index=k \n",
    "    sortedList.append(numbers[index])\n",
    "    numbers.pop(index)\n",
    "print(sortedList)"
   ]
  },
  {
   "cell_type": "markdown",
   "metadata": {},
   "source": [
    "GET ONLY UNIQUE ELEMS IN LIST"
   ]
  },
  {
   "cell_type": "code",
   "execution_count": 79,
   "metadata": {},
   "outputs": [
    {
     "name": "stdout",
     "output_type": "stream",
     "text": [
      "[1, 2, 3, 4, 5, 6, 23, 12, 43, 7, 8, 9]\n"
     ]
    }
   ],
   "source": [
    "numbers = [1,2,2,3,4,5,5,4,2,3,2,3,5,6,23,2,12,5,43,23,12,1,2,3,4,6,7,7,8,9]\n",
    "newList = []\n",
    "for number in numbers:\n",
    "    if number not in newList:\n",
    "        newList.append(number)\n",
    "print(newList)\n"
   ]
  }
 ],
 "metadata": {
  "kernelspec": {
   "display_name": "python_basic",
   "language": "python",
   "name": "python3"
  },
  "language_info": {
   "codemirror_mode": {
    "name": "ipython",
    "version": 3
   },
   "file_extension": ".py",
   "mimetype": "text/x-python",
   "name": "python",
   "nbconvert_exporter": "python",
   "pygments_lexer": "ipython3",
   "version": "3.12.1"
  }
 },
 "nbformat": 4,
 "nbformat_minor": 2
}
