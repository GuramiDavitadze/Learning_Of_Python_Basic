{
 "cells": [
  {
   "cell_type": "markdown",
   "metadata": {},
   "source": [
    "IMPORT RANDOM MODULE"
   ]
  },
  {
   "cell_type": "code",
   "execution_count": 30,
   "metadata": {},
   "outputs": [],
   "source": [
    "import random as rand"
   ]
  },
  {
   "cell_type": "markdown",
   "metadata": {},
   "source": [
    "SORT NUMBERS FROM HIGHEST TO LOWEST"
   ]
  },
  {
   "cell_type": "code",
   "execution_count": 31,
   "metadata": {},
   "outputs": [
    {
     "name": "stdout",
     "output_type": "stream",
     "text": [
      "[100, 87, 63, 52, 19, 17, 10, -5, -35, -49, -49, -59, -74, -75, -78]\n"
     ]
    }
   ],
   "source": [
    "list_max_size = 15\n",
    "numbers = [rand.randint(-100,100) for _ in range(list_max_size)]\n",
    "sortedList = []\n",
    "for i in range(len(numbers)):\n",
    "    index = 0\n",
    "    for k in range(1, len(numbers)):\n",
    "        if numbers[k]>numbers[index]: \n",
    "            index=k \n",
    "    sortedList.append(numbers[index])\n",
    "    numbers.pop(index)\n",
    "print(sortedList)"
   ]
  },
  {
   "cell_type": "markdown",
   "metadata": {},
   "source": [
    "SORT NUMBERS FROM LOWEST TO HIGHEST"
   ]
  },
  {
   "cell_type": "code",
   "execution_count": 32,
   "metadata": {},
   "outputs": [
    {
     "name": "stdout",
     "output_type": "stream",
     "text": [
      "[-66, -59, -46, -46, -27, -23, -22, -6, 13, 28, 44, 44, 53, 80, 99]\n"
     ]
    }
   ],
   "source": [
    "list_max_size = 15\n",
    "numbers = [rand.randint(-100,100) for _ in range(list_max_size)]\n",
    "sortedList = []\n",
    "for i in range(len(numbers)):\n",
    "    index = 0\n",
    "    for k in range(1, len(numbers)):\n",
    "        if numbers[k]<numbers[index]: \n",
    "            index=k \n",
    "    sortedList.append(numbers[index])\n",
    "    numbers.pop(index)\n",
    "print(sortedList)"
   ]
  }
 ],
 "metadata": {
  "kernelspec": {
   "display_name": "python_basic",
   "language": "python",
   "name": "python3"
  },
  "language_info": {
   "codemirror_mode": {
    "name": "ipython",
    "version": 3
   },
   "file_extension": ".py",
   "mimetype": "text/x-python",
   "name": "python",
   "nbconvert_exporter": "python",
   "pygments_lexer": "ipython3",
   "version": "3.12.1"
  }
 },
 "nbformat": 4,
 "nbformat_minor": 2
}
