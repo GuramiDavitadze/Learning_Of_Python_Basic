{
 "cells": [
  {
   "cell_type": "markdown",
   "metadata": {},
   "source": [
    "METHODS -> functions of datatypes"
   ]
  },
  {
   "cell_type": "code",
   "execution_count": 1,
   "metadata": {},
   "outputs": [
    {
     "name": "stdout",
     "output_type": "stream",
     "text": [
      "VALUE\n",
      "value\n",
      "valu3\n"
     ]
    }
   ],
   "source": [
    "print('Value'.upper())\n",
    "print('VALUE'.lower())\n",
    "print('value'.replace('e', '3'))"
   ]
  },
  {
   "cell_type": "markdown",
   "metadata": {},
   "source": [
    "NEW FUNCTIONS"
   ]
  },
  {
   "cell_type": "code",
   "execution_count": 2,
   "metadata": {},
   "outputs": [
    {
     "name": "stdout",
     "output_type": "stream",
     "text": [
      "1\n",
      "10\n",
      "0\n",
      "4\n"
     ]
    }
   ],
   "source": [
    "print(abs(-1))\n",
    "print(max(10,5))\n",
    "print(min(0,1))\n",
    "print(len('test'))"
   ]
  },
  {
   "cell_type": "markdown",
   "metadata": {},
   "source": [
    "CONTAINERS"
   ]
  },
  {
   "cell_type": "code",
   "execution_count": 15,
   "metadata": {},
   "outputs": [
    {
     "name": "stdout",
     "output_type": "stream",
     "text": [
      "{'key': 'value', 123: [1, 2, 3], 'new key': 1.5}\n"
     ]
    }
   ],
   "source": [
    "a_tuple = (1,2,3,'a string')\n",
    "a_list = [1,2,3,'a string']\n",
    "a_set = {1,2,3,4}\n",
    "a_dictionary={'key':'value',123:[1,2,3]}\n",
    "a_dictionary['new key']=1.5\n",
    "print(a_dictionary)\n"
   ]
  },
  {
   "cell_type": "code",
   "execution_count": 13,
   "metadata": {},
   "outputs": [
    {
     "name": "stdout",
     "output_type": "stream",
     "text": [
      "['Lisa', 'Alex']\n",
      "('Bob', 'Anna')\n",
      "[1, 2, 3]\n"
     ]
    }
   ],
   "source": [
    "user_list=['Lisa','Bob','Alex','Anna','John']\n",
    "user_tuple=('Bob','Lisa','Anna','Alex','John')\n",
    "a_dictionary={'key':'value',123:[1,2,3]}\n",
    "print(user_list[0:4:2])\n",
    "print(user_tuple[0:4:2])\n",
    "print(a_dictionary[123])"
   ]
  },
  {
   "cell_type": "markdown",
   "metadata": {},
   "source": [
    "FLOW"
   ]
  },
  {
   "cell_type": "code",
   "execution_count": 23,
   "metadata": {},
   "outputs": [
    {
     "name": "stdout",
     "output_type": "stream",
     "text": [
      "1 2\n",
      "3 4\n",
      "5 6\n"
     ]
    }
   ],
   "source": [
    "test_list = [1,2,3,4,5]\n",
    "test_dic = {1:2,3:4,5:6}\n",
    "\n",
    "# for x in test_dic.items():\n",
    "    # print(x[0])\n",
    "# for x in test_dic.keys():\n",
    "    # print(x)\n",
    "# for x in test_dic.values():\n",
    "    # print(x)\n",
    "# for k,v in test_dic.items():\n",
    "    # print(k,v)"
   ]
  },
  {
   "cell_type": "markdown",
   "metadata": {},
   "source": [
    "TOOLS"
   ]
  },
  {
   "cell_type": "code",
   "execution_count": 32,
   "metadata": {},
   "outputs": [
    {
     "name": "stdout",
     "output_type": "stream",
     "text": [
      "Bob is 19 years old. The person is Adult\n",
      "Adult\n"
     ]
    }
   ],
   "source": [
    "user_name=\"Bob\"\n",
    "user_age=19\n",
    "user_information = f'{user_name} is {user_age} years old'\n",
    "print(f'{user_name} is {user_age} years old. The person is {'Adult' if user_age>=18 else 'Child'}')\n",
    "user_status = 'Adult' if user_age>=18 else 'Child'\n",
    "print(user_status)\n"
   ]
  },
  {
   "cell_type": "code",
   "execution_count": 40,
   "metadata": {},
   "outputs": [
    {
     "name": "stdout",
     "output_type": "stream",
     "text": [
      "['0a', '1a', '2a', '3a', '4a', '5a', '6a', '7a', '8a', '9a', '10a']\n"
     ]
    }
   ],
   "source": [
    "# list comprehension\n",
    "simple_list=[f'{i}{j}' for i in range(0,11,1) for j in ('a','b','c') if j=='a']    \n",
    "print(simple_list)"
   ]
  },
  {
   "cell_type": "code",
   "execution_count": 47,
   "metadata": {},
   "outputs": [
    {
     "name": "stdout",
     "output_type": "stream",
     "text": [
      "10\n",
      "[('Lisa', 10), ('Anna', 25), ('Paul', 40)]\n"
     ]
    }
   ],
   "source": [
    "double_value = lambda x:x*2\n",
    "print(double_value(5))\n",
    "\n",
    "# SOME FUNCTIONS WANT A FUNCTION AS AN ARGUMENT\n",
    "random_list = [('Anna',25),('Paul',40),('Lisa',10)]\n",
    "sorted_list = sorted(random_list,key=lambda user_tuple:user_tuple[1])\n",
    "print(sorted_list)"
   ]
  },
  {
   "cell_type": "markdown",
   "metadata": {},
   "source": [
    "CLASSES"
   ]
  },
  {
   "cell_type": "code",
   "execution_count": 56,
   "metadata": {},
   "outputs": [
    {
     "name": "stdout",
     "output_type": "stream",
     "text": [
      "hello\n",
      "Hel\n"
     ]
    }
   ],
   "source": [
    "class TestClass:\n",
    "    test_var='hello'\n",
    "    another_var = 'something'\n",
    "    def test_func(self):\n",
    "        print(self.test_var)\n",
    "        self.another_func('Hel')\n",
    "    def another_func(self, test_param):\n",
    "        print(test_param)\n",
    "test = TestClass()\n",
    "test.test_func()\n"
   ]
  },
  {
   "cell_type": "code",
   "execution_count": 62,
   "metadata": {},
   "outputs": [
    {
     "name": "stdout",
     "output_type": "stream",
     "text": [
      "The mage class was created\n",
      "40\n",
      "30\n"
     ]
    }
   ],
   "source": [
    "# MAGE CLASS\n",
    "class Mage:\n",
    "    def __init__(self,health,mana):\n",
    "        self.health=health\n",
    "        self.mana = mana\n",
    "        print('The mage class was created')\n",
    "    def attack(self,target):\n",
    "        target.health -=10\n",
    "\n",
    "class Monster:\n",
    "    health=40\n",
    "\n",
    "mage = Mage(100,200)\n",
    "monster =Monster()\n",
    "mage.attack(monster)"
   ]
  },
  {
   "cell_type": "code",
   "execution_count": 64,
   "metadata": {},
   "outputs": [
    {
     "name": "stdout",
     "output_type": "stream",
     "text": [
      "attack\n",
      "attack\n",
      "50\n"
     ]
    }
   ],
   "source": [
    "class Human:\n",
    "    def __init__(self,health):\n",
    "        self.health=health\n",
    "        \n",
    "    def attack(self):\n",
    "        print('attack')\n",
    "        \n",
    "class Warrior(Human):\n",
    "    def __init__(self,health,defense):\n",
    "        super().__init__(health)\n",
    "        self.defense = defense\n",
    "class Barbarian(Human):\n",
    "    def __init__(self,health,damage):\n",
    "        super().__init__(health)\n",
    "        \n",
    "        self.damage=damage\n",
    "\n",
    "warrior = Warrior(50,5.5)\n",
    "barbarian = Barbarian(100,8.1)\n",
    "\n",
    "warrior.attack()\n",
    "barbarian.attack()\n",
    "print(warrior.health)"
   ]
  }
 ],
 "metadata": {
  "kernelspec": {
   "display_name": "python_basic",
   "language": "python",
   "name": "python3"
  },
  "language_info": {
   "codemirror_mode": {
    "name": "ipython",
    "version": 3
   },
   "file_extension": ".py",
   "mimetype": "text/x-python",
   "name": "python",
   "nbconvert_exporter": "python",
   "pygments_lexer": "ipython3",
   "version": "3.12.1"
  }
 },
 "nbformat": 4,
 "nbformat_minor": 2
}
