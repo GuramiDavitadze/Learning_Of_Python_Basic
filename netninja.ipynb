{
 "cells": [
  {
   "cell_type": "markdown",
   "metadata": {},
   "source": [
    "METHODS -> functions of datatypes"
   ]
  },
  {
   "cell_type": "code",
   "execution_count": 1,
   "metadata": {},
   "outputs": [
    {
     "name": "stdout",
     "output_type": "stream",
     "text": [
      "VALUE\n",
      "value\n",
      "valu3\n"
     ]
    }
   ],
   "source": [
    "print('Value'.upper())\n",
    "print('VALUE'.lower())\n",
    "print('value'.replace('e', '3'))"
   ]
  },
  {
   "cell_type": "markdown",
   "metadata": {},
   "source": [
    "NEW FUNCTIONS"
   ]
  },
  {
   "cell_type": "code",
   "execution_count": 2,
   "metadata": {},
   "outputs": [
    {
     "name": "stdout",
     "output_type": "stream",
     "text": [
      "1\n",
      "10\n",
      "0\n",
      "4\n"
     ]
    }
   ],
   "source": [
    "print(abs(-1))\n",
    "print(max(10,5))\n",
    "print(min(0,1))\n",
    "print(len('test'))"
   ]
  },
  {
   "cell_type": "markdown",
   "metadata": {},
   "source": [
    "CONTAINERS"
   ]
  },
  {
   "cell_type": "code",
   "execution_count": 15,
   "metadata": {},
   "outputs": [
    {
     "name": "stdout",
     "output_type": "stream",
     "text": [
      "{'key': 'value', 123: [1, 2, 3], 'new key': 1.5}\n"
     ]
    }
   ],
   "source": [
    "a_tuple = (1,2,3,'a string')\n",
    "a_list = [1,2,3,'a string']\n",
    "a_set = {1,2,3,4}\n",
    "a_dictionary={'key':'value',123:[1,2,3]}\n",
    "a_dictionary['new key']=1.5\n",
    "print(a_dictionary)\n"
   ]
  },
  {
   "cell_type": "code",
   "execution_count": 13,
   "metadata": {},
   "outputs": [
    {
     "name": "stdout",
     "output_type": "stream",
     "text": [
      "['Lisa', 'Alex']\n",
      "('Bob', 'Anna')\n",
      "[1, 2, 3]\n"
     ]
    }
   ],
   "source": [
    "user_list=['Lisa','Bob','Alex','Anna','John']\n",
    "user_tuple=('Bob','Lisa','Anna','Alex','John')\n",
    "a_dictionary={'key':'value',123:[1,2,3]}\n",
    "print(user_list[0:4:2])\n",
    "print(user_tuple[0:4:2])\n",
    "print(a_dictionary[123])"
   ]
  },
  {
   "cell_type": "markdown",
   "metadata": {},
   "source": [
    "FLOW"
   ]
  },
  {
   "cell_type": "code",
   "execution_count": 23,
   "metadata": {},
   "outputs": [
    {
     "name": "stdout",
     "output_type": "stream",
     "text": [
      "1 2\n",
      "3 4\n",
      "5 6\n"
     ]
    }
   ],
   "source": [
    "test_list = [1,2,3,4,5]\n",
    "test_dic = {1:2,3:4,5:6}\n",
    "\n",
    "# for x in test_dic.items():\n",
    "    # print(x[0])\n",
    "# for x in test_dic.keys():\n",
    "    # print(x)\n",
    "# for x in test_dic.values():\n",
    "    # print(x)\n",
    "# for k,v in test_dic.items():\n",
    "    # print(k,v)"
   ]
  },
  {
   "cell_type": "markdown",
   "metadata": {},
   "source": [
    "CREATE A FUNCTION"
   ]
  },
  {
   "cell_type": "code",
   "execution_count": null,
   "metadata": {},
   "outputs": [],
   "source": []
  }
 ],
 "metadata": {
  "kernelspec": {
   "display_name": "python_basic",
   "language": "python",
   "name": "python3"
  },
  "language_info": {
   "codemirror_mode": {
    "name": "ipython",
    "version": 3
   },
   "file_extension": ".py",
   "mimetype": "text/x-python",
   "name": "python",
   "nbconvert_exporter": "python",
   "pygments_lexer": "ipython3",
   "version": "3.12.1"
  }
 },
 "nbformat": 4,
 "nbformat_minor": 2
}
